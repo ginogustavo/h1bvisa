{
  "nbformat": 4,
  "nbformat_minor": 0,
  "metadata": {
    "colab": {
      "name": "Untitled1.ipynb",
      "provenance": [],
      "collapsed_sections": []
    },
    "kernelspec": {
      "name": "python3",
      "display_name": "Python 3"
    }
  },
  "cells": [
    {
      "cell_type": "code",
      "metadata": {
        "id": "-Aw_gO6RSEVA",
        "colab_type": "code",
        "colab": {}
      },
      "source": [
        "from google.colab import drive\n",
        "drive.mount('/content/gdrive')"
      ],
      "execution_count": null,
      "outputs": []
    },
    {
      "cell_type": "code",
      "metadata": {
        "id": "OLW4SwQeSgdc",
        "colab_type": "code",
        "colab": {}
      },
      "source": [
        "!pip install autocorrect\n",
        "import string,nltk,warnings,sklearn\n",
        "import pandas as pd\n",
        "import numpy as np\n",
        "import read_files as rd\n",
        "import visualizations as vz\n",
        "import plotly.graph_objects as go\n",
        "import plotly.tools as tls\n",
        "import cleaning as cw\n",
        "import baseline as blc\n",
        "%matplotlib inline\n",
        "import matplotlib.pyplot as plt\n",
        "import seaborn as sns\n",
        "from statistics import mean\n",
        "from autocorrect import Speller \n",
        "from imblearn.over_sampling import ADASYN\n",
        "from imblearn.under_sampling import EditedNearestNeighbours\n",
        "from collections import Counter\n",
        "from sklearn import metrics\n",
        "from sklearn import model_selection\n",
        "from sklearn.preprocessing import OneHotEncoder #ONE HOT ENCODING\n",
        "from sklearn.ensemble import RandomForestClassifier #Build model - Random Forest Classifier\n",
        "from sklearn.model_selection import train_test_split\n",
        "from sklearn.metrics import roc_auc_score\n",
        "import gensim.downloader as api\n",
        "from sklearn.metrics import precision_recall_curve\n",
        "nltk.download('wordnet')\n",
        "nltk.download('words')\n",
        "from sklearn.tree import DecisionTreeClassifier"
      ],
      "execution_count": null,
      "outputs": []
    }
  ]
}